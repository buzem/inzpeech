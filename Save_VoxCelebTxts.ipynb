{
 "cells": [
  {
   "cell_type": "code",
   "execution_count": 2,
   "metadata": {},
   "outputs": [],
   "source": [
    "from dataloaders.DatagenVoxCeleb import get_pkl_paths"
   ]
  },
  {
   "cell_type": "code",
   "execution_count": 2,
   "metadata": {},
   "outputs": [
    {
     "name": "stdout",
     "output_type": "stream",
     "text": [
      "Progress: 5993 / 5994\r"
     ]
    }
   ],
   "source": [
    "data_dir = '/media/data/bbekci/voxceleb2/data/dev/pkls/'\n",
    "num_audio_per_video=1e5\n",
    "num_video_per_person=1e5\n",
    "split_by='audio'\n",
    "split_size=0.2\n",
    "tr_paths, val_paths = get_pkl_paths(data_dir, num_video_per_person, num_audio_per_video, split_by, split_size)"
   ]
  },
  {
   "cell_type": "code",
   "execution_count": 14,
   "metadata": {},
   "outputs": [],
   "source": [
    "with open('tr_voxceleb_audio_pkl_paths.txt', 'w') as path_file:\n",
    "    for p in tr_paths:\n",
    "        path_file.write(p + '\\n')"
   ]
  },
  {
   "cell_type": "code",
   "execution_count": 16,
   "metadata": {},
   "outputs": [],
   "source": [
    "with open('tr_voxceleb_audio_pkl_paths.txt', 'r') as path_file:\n",
    "    valps = path_file.readlines()\n",
    "    valps = [pr.strip() for pr in valps]"
   ]
  },
  {
   "cell_type": "code",
   "execution_count": 18,
   "metadata": {},
   "outputs": [
    {
     "name": "stdout",
     "output_type": "stream",
     "text": [
      "Progress: 5993 / 5994\r"
     ]
    }
   ],
   "source": [
    "data_dir = '/media/data/bbekci/voxceleb2/data/dev/pkls/'\n",
    "num_audio_per_video=1e5\n",
    "num_video_per_person=1e5\n",
    "split_by='video'\n",
    "split_size=0.2\n",
    "vid_tr_paths, vid_val_paths = get_pkl_paths(data_dir, num_video_per_person, num_audio_per_video, split_by, split_size)"
   ]
  },
  {
   "cell_type": "code",
   "execution_count": 19,
   "metadata": {},
   "outputs": [],
   "source": [
    "with open('tr_voxceleb_video_pkl_paths.txt', 'w') as path_file:\n",
    "    for p in vid_tr_paths:\n",
    "        path_file.write(p + '\\n')"
   ]
  },
  {
   "cell_type": "code",
   "execution_count": 20,
   "metadata": {},
   "outputs": [],
   "source": [
    "with open('val_voxceleb_video_pkl_paths.txt', 'w') as path_file:\n",
    "    for p in vid_val_paths:\n",
    "        path_file.write(p + '\\n')"
   ]
  },
  {
   "cell_type": "code",
   "execution_count": null,
   "metadata": {},
   "outputs": [],
   "source": []
  }
 ],
 "metadata": {
  "kernelspec": {
   "display_name": "Python 3",
   "language": "python",
   "name": "python3"
  },
  "language_info": {
   "codemirror_mode": {
    "name": "ipython",
    "version": 3
   },
   "file_extension": ".py",
   "mimetype": "text/x-python",
   "name": "python",
   "nbconvert_exporter": "python",
   "pygments_lexer": "ipython3",
   "version": "3.8.5"
  }
 },
 "nbformat": 4,
 "nbformat_minor": 4
}
